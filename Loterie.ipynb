{
 "cells": [
  {
   "cell_type": "markdown",
   "metadata": {
    "colab_type": "text",
    "id": "B9Lb9xIM7qQn",
    "tags": [
     "intervalle",
     "fluctuation",
     "simulation"
    ]
   },
   "source": [
    "# Loterie"
   ]
  },
  {
   "cell_type": "markdown",
   "metadata": {
    "tags": [
     "échantillonnage",
     "moyenne",
     "écart-type",
     "espérance",
     "première-générale",
     "spécialité"
    ]
   },
   "source": [
    "## Présentation de l'activité\n",
    "- **Niveau de classe :**\n",
    " - Classe de première de la voie générale (spécialité mathématiques).\n",
    "- **Références au programme :** \n",
    " - Spécialité mathématiques de première générale : *Algorithme renvoyant l’espérance, la variance ou l‘écart type d’une variable aléatoire*.\n",
    " - Spécialité mathématiques de première générale : *Simuler une variable aléatoire avec Python*.\n",
    " - Spécialité mathématiques de première générale : *Lire, comprendre et écrire une fonction Python renvoyant la moyenne d’un échantillon de taille 𝑛 d’une variable aléatoire*.\n",
    " - Spécialité mathématiques de première générale : *Étudier sur des exemples la distance entre la moyenne d’un échantillon simulé de taille $n$ d’une variable aléatoire et l’espérance de cette variable aléatoire*.\n",
    " - Spécialité mathématiques de première générale : *Simuler, avec Python ou un tableur, $N$ échantillons de taille $n$ d’une variable aléatoire, d’espérance $\\mu$ et d’écart type $\\sigma$. Si $m$ désigne la moyenne d’un échantillon, calculer la proportion des cas où l’écart entre $m$ et $\\mu$ est inférieur ou égal à 2$\\frac{\\sigma}{\\sqrt{n}}$*.\n",
    "- **Description :** activité abordant les notions de simulation et d'espérance de gain dans le contexte d'un jeu de loterie."
   ]
  },
  {
   "cell_type": "markdown",
   "metadata": {
    "colab_type": "text",
    "id": "q9znBxZO88Bw"
   },
   "source": [
    "## Situation\n",
    " \n",
    "À l'occasion d'un jeu de loterie, un joueur mise une certaine somme d'argent et fait tourner une première fois une roue circulaire découpée en $8$ secteurs de même angle numérotés de $1$ à $8$. Les quatre premiers secteurs sont rouges. S'il tombe sur le secteur $1$, il récupère le double de sa mise, sinon il relance la roue et gagne sa mise augmentée de $6$ euros s'il tombe sur un secteur de couleur rouge. Dans les autres cas, sa mise est perdue. On note $X$ la variable aléatoire donnant le gain en euros associé à ce jeu.\n"
   ]
  },
  {
   "cell_type": "markdown",
   "metadata": {
    "colab_type": "text",
    "id": "d4jX2-tvM4ZU"
   },
   "source": [
    "## Simulation du jeu\n",
    "Nous allons maintenant simuler une partie."
   ]
  },
  {
   "cell_type": "markdown",
   "metadata": {},
   "source": [
    "La fonction `randint` de la bibliothèque `random` permet de générer aléatoirement des nombres entiers compris entre deux bornes données."
   ]
  },
  {
   "cell_type": "code",
   "execution_count": null,
   "metadata": {},
   "outputs": [],
   "source": [
    "from random import randint"
   ]
  },
  {
   "cell_type": "markdown",
   "metadata": {},
   "source": [
    "La fonction `jeu` simule une partie. Elle prend la valeur de la mise en paramètre et renvoie la valeur du gain (sans la mise de départ). Cette fonction est ensuite testée pour une mise égale à $10$ euros."
   ]
  },
  {
   "cell_type": "code",
   "execution_count": null,
   "metadata": {
    "colab": {
     "base_uri": "https://localhost:8080/",
     "height": 34
    },
    "colab_type": "code",
    "id": "MSMNNizr7nBH",
    "outputId": "28e21c0d-c7b6-40c0-abd4-13eaf42a2428",
    "tags": [
     "gain"
    ]
   },
   "outputs": [],
   "source": [
    "def jeu(mise):\n",
    "    lancer1 = randint(1,8)\n",
    "    if lancer1 == 1:\n",
    "        gain = mise\n",
    "    else:\n",
    "        lancer2 = randint(1,8)\n",
    "        if lancer2 <= 4:\n",
    "            gain = 6\n",
    "        else:\n",
    "            gain = -mise\n",
    "    return gain\n",
    "\n",
    "jeu(10)"
   ]
  },
  {
   "cell_type": "markdown",
   "metadata": {
    "colab_type": "text",
    "id": "fwhAMqT6bs9w"
   },
   "source": [
    "<div class=\"alert alert-info\">\n",
    "\n",
    "Suggestions pédagogiques\n",
    "</div>\n",
    "\n",
    "- **Expliquer un programme** \n",
    "\n",
    "    Expliquer les lignes 2, 7 et 10.\n",
    "- **Compléter un programme**\n",
    "\n",
    "     Le programme précédent étant fourni en remplaçant les lignes 7, 8 et 10 par `if ...`, `gain= ...` et `gain= ...`, demander aux élèves de compléter les lignes 7, 8 et 10. "
   ]
  },
  {
   "cell_type": "markdown",
   "metadata": {
    "colab_type": "text",
    "id": "aJbX-yVf8TDQ"
   },
   "source": [
    "## Simulation de $n$ expériences\n",
    "Dans cette section, l'expérience est répétée $n$ fois de manière à pouvoir calculer le gain moyen sur ces $n$ parties.\n",
    "\n",
    "La fonction `gainMoyen` prend en paramètres la mise initiale et un nombre $n$ de parties. Elle renvoie le gain moyen (en euro) obtenu au cours de ces $n$ parties avec cette mise initiale."
   ]
  },
  {
   "cell_type": "code",
   "execution_count": null,
   "metadata": {
    "colab": {
     "base_uri": "https://localhost:8080/",
     "height": 34
    },
    "colab_type": "code",
    "id": "UAWp-afwTrK_",
    "outputId": "d6543c01-672f-4622-9d68-f0847e2d14e3",
    "tags": [
     "moyenne"
    ]
   },
   "outputs": [],
   "source": [
    "def gainMoyen(mise, n):\n",
    "    gainTotal = 0\n",
    "    for i in range(n):\n",
    "        gainTotal = ...\n",
    "    return ...\n",
    "\n",
    "gainMoyen(10, 100000)"
   ]
  },
  {
   "cell_type": "markdown",
   "metadata": {
    "colab_type": "text",
    "id": "BHuGWYmHcxMs"
   },
   "source": [
    "<div class=\"alert alert-info\">\n",
    "\n",
    "Suggestions pédagogiques\n",
    "</div>\n",
    "\n",
    "- **Expliquer un programme** \n",
    " - Expliquer la ligne 2.\n",
    " - Que fait la ligne 4 ? \n",
    "- **Compléter un programme**\n",
    "\n",
    " Le programme précédent étant fourni en remplaçant les lignes 4 et 5 par `gainTotal = ...` et `return ...`, demander aux élèves de compléter les lignes 4 et 5. ."
   ]
  },
  {
   "cell_type": "markdown",
   "metadata": {
    "colab_type": "text",
    "id": "TbNgS6C8gLUN",
    "tags": [
     "echantillon"
    ]
   },
   "source": [
    "## Convergence du gain moyen\n",
    "Dans cette section, nous allons étudier le comportement asymptotique du gain moyen en fonction du nombre de parties."
   ]
  },
  {
   "cell_type": "markdown",
   "metadata": {},
   "source": [
    "Importation de la librairie graphique."
   ]
  },
  {
   "cell_type": "code",
   "execution_count": null,
   "metadata": {},
   "outputs": [],
   "source": [
    "%matplotlib inline\n",
    "import matplotlib.pyplot as plt"
   ]
  },
  {
   "cell_type": "markdown",
   "metadata": {},
   "source": [
    "La fonction `cumul` crée la liste des gains moyens obtenus pour des échantillons de taille variant entre $1$ et $n$.\n",
    "On représente ensuite la valeur du gain moyen en fonction de la taille de l'échantillon afin de visualiser la convergence du gain moyen vers l'espérance du gain (loi des grands nombres)."
   ]
  },
  {
   "cell_type": "code",
   "execution_count": null,
   "metadata": {},
   "outputs": [],
   "source": [
    "def cumul(n):\n",
    "    F = []\n",
    "    gainTotal = 0\n",
    "    for i in range(1,n+1): \n",
    "        gainTotal = gainTotal + jeu(mise)\n",
    "        F.append(...)\n",
    "    return F"
   ]
  },
  {
   "cell_type": "markdown",
   "metadata": {},
   "source": [
    "<div class=\"alert alert-info\">\n",
    "\n",
    "Suggestions pédagogiques\n",
    "</div>\n",
    "\n",
    "- **Expliquer un programme**\n",
    "\n",
    "    Expliquer la ligne 6.\n",
    "- **Compléter un programme**\n",
    "\n",
    " Le programme précédent étant fourni en remplaçant la ligne 6 par `F.append(...)`, demander aux élèves de compléter la ligne 6."
   ]
  },
  {
   "cell_type": "markdown",
   "metadata": {
    "colab_type": "text",
    "id": "pjWHbvbsWB8_",
    "tags": [
     "équitable",
     "mise"
    ]
   },
   "source": [
    "## Estimation de la mise rendant le jeu équitable"
   ]
  },
  {
   "cell_type": "markdown",
   "metadata": {},
   "source": [
    "Le programme suivant représente le gain moyen en fonction du nombre de parties."
   ]
  },
  {
   "cell_type": "code",
   "execution_count": null,
   "metadata": {
    "colab": {
     "base_uri": "https://localhost:8080/",
     "height": 313
    },
    "colab_type": "code",
    "id": "iPwHMc1deW8d",
    "outputId": "f9f552f0-6a61-4a12-8baf-75f06e3cd86a",
    "tags": [
     "espérance"
    ]
   },
   "outputs": [],
   "source": [
    "mise = 10\n",
    "n = 5000 \n",
    "\n",
    "F = cumul(n)\n",
    "\n",
    "plt.title(\"Gain moyen en fonction du nombre de parties.\",color=\"#1e7fcb\",fontsize=14)\n",
    "plt.xlabel('n')\n",
    "plt.ylabel('gain moyen')\n",
    "plt.plot(F)\n",
    "plt.show()"
   ]
  },
  {
   "cell_type": "markdown",
   "metadata": {},
   "source": [
    "<div class=\"alert alert-info\">\n",
    "\n",
    "Suggestions pédagogiques\n",
    "</div>\n",
    "\n",
    "- **Tester** le programme précédent avec différentes valeurs de mise. Quelle doit être la valeur approximative de la mise pour que le jeu soit équitable ?"
   ]
  },
  {
   "cell_type": "markdown",
   "metadata": {},
   "source": [
    "<div class=\"alert alert-success\">\n",
    "<details>\n",
    "    <summary>Réponse</summary>\n",
    "    \n",
    "    On trouve environ une mise égale à  8,4  euros.\n",
    "    \n",
    "</details>\n",
    "</div>    "
   ]
  },
  {
   "cell_type": "markdown",
   "metadata": {
    "colab_type": "text",
    "id": "FkH4l7IoXTto"
   },
   "source": [
    "## Étude de la loi de probabilités de la variable aléatoire $X$"
   ]
  },
  {
   "cell_type": "markdown",
   "metadata": {},
   "source": [
    "<div class=\"alert alert-info\">\n",
    "\n",
    "Suggestions pédagogiques\n",
    "</div>\n",
    "\n",
    "- **Mathématiques débranchées**\n",
    "\n",
    "    À l'aide d'un arbre de probabilités, donner la loi de probabilités de $X$."
   ]
  },
  {
   "cell_type": "markdown",
   "metadata": {},
   "source": [
    "<div class=\"alert alert-success\">\n",
    "<details>\n",
    "    <summary>Réponse</summary>\n",
    "    \n",
    "    P(X=mise)=1/8, P(X=6)=7/16, P(X=-mise)=7/16\n",
    "    \n",
    "</details>\n",
    "</div>    "
   ]
  },
  {
   "cell_type": "markdown",
   "metadata": {
    "colab_type": "text",
    "id": "PM4oeL4rXo4J"
   },
   "source": [
    "## Programme de calcul de l'espérance de $X$\n",
    "La fonction `esperance` renvoie l'espérance d'une variable aléatoire dont la loi est donnée sous la forme de deux listes. Elle prend deux listes en paramètres : la liste des valeurs possibles pour $X$ et celle des probabilités associées."
   ]
  },
  {
   "cell_type": "code",
   "execution_count": null,
   "metadata": {
    "colab": {
     "base_uri": "https://localhost:8080/",
     "height": 34
    },
    "colab_type": "code",
    "id": "629GHIp7YHVp",
    "outputId": "52a24540-4c15-474f-92d2-fe853c73579d"
   },
   "outputs": [],
   "source": [
    "def esperance(X,P):\n",
    "    E = 0\n",
    "    for i in range(len(X)):\n",
    "        E = E + X[i]*P[i]\n",
    "    return E\n",
    "mise=10\n",
    "X=[mise, 6, -mise]\n",
    "P=[1/8, 7/16, 7/16]\n",
    "print(\"L'espérance est égale à\",esperance(X,P)) "
   ]
  },
  {
   "cell_type": "markdown",
   "metadata": {
    "colab_type": "text",
    "id": "iqrRcQ56hLz-"
   },
   "source": [
    "<div class=\"alert alert-info\">\n",
    "\n",
    "Suggestions pédagogiques\n",
    "</div>\n",
    "\n",
    "* **Compléter un programme**\n",
    "\n",
    "    Le programme précédent étant fourni en remplaçant les lignes 7 et 8 par `X= ...` et `P= ...`, demander aux élèves de compléter les lignes 7 et 8 à l'aide de la loi de probabilité de $X$.\n",
    "\n",
    "* **Écrire un programme**\n",
    "\n",
    "    Écrire la fonction `esperance`. (On pourra rappeler que la fonction `len` donne la longueur d'une liste)."
   ]
  },
  {
   "cell_type": "markdown",
   "metadata": {
    "colab_type": "text",
    "id": "zqzuTIuvkhRR"
   },
   "source": [
    "## Calcul de l'espérance de $X$"
   ]
  },
  {
   "cell_type": "markdown",
   "metadata": {
    "colab_type": "text",
    "id": "iqrRcQ56hLz-"
   },
   "source": [
    "<div class=\"alert alert-info\">\n",
    "\n",
    "Suggestions pédagogiques\n",
    "</div>\n",
    "\n",
    "* **Mathématiques débranchées** :\n",
    "    - Calculer la valeur de l'espérance de $X$ en fonction de la mise.\n",
    "    - Déterminer la valeur de la mise rendant le jeu équitable."
   ]
  },
  {
   "cell_type": "markdown",
   "metadata": {
    "colab_type": "text",
    "id": "UEdynVxElRux"
   },
   "source": [
    "<div class=\"alert alert-success\">\n",
    "<details>\n",
    "    <summary>Réponse</summary>\n",
    "    \n",
    "$\\mu=E(X)=\\dfrac{42-5\\times mise}{16}$ et \n",
    "$\\mu=E(X)=0 \\Leftrightarrow mise=\\dfrac{42}{5}=8,4$\n",
    "    \n",
    "</details>\n",
    "</div>  \n"
   ]
  },
  {
   "cell_type": "markdown",
   "metadata": {
    "colab_type": "text",
    "id": "wYGm80F8rme3",
    "tags": [
     "écart-type"
    ]
   },
   "source": [
    "## Programme de calcul de l'écart-type de $X$\n",
    "La fonction `ecartType` renvoie l'écart-type d'une variable aléatoire dont la loi est donnée sous la forme de deux listes. \n",
    "\n",
    "Elle prend deux listes en paramètres : \n",
    " - la liste des valeurs possibles pour $X$;\n",
    " - la liste des probabilités associées aux valeurs possibles."
   ]
  },
  {
   "cell_type": "code",
   "execution_count": null,
   "metadata": {
    "colab": {
     "base_uri": "https://localhost:8080/",
     "height": 34
    },
    "colab_type": "code",
    "id": "yLLnuju8r80L",
    "outputId": "d2c83c92-dfb0-4e93-d29d-dc57356083c9"
   },
   "outputs": [],
   "source": [
    "import math\n",
    "\n",
    "def ecartType(X,P):\n",
    "    E = esperance(X,P)\n",
    "    V = 0\n",
    "    for i in range(len(X)):\n",
    "        V = V + P[i]*(X[i]-E)**2\n",
    "    return math.sqrt(V)\n",
    "mise = 10\n",
    "X = [mise, 6, -mise]\n",
    "P = [1/8, 7/16, 7/16]\n",
    "print(\"L'écart-type est égal à \", ecartType(X,P)) "
   ]
  },
  {
   "cell_type": "markdown",
   "metadata": {
    "colab_type": "text",
    "id": "y-npZzFmsslk"
   },
   "source": [
    "<div class=\"alert alert-info\">\n",
    "\n",
    "Suggestions pédagogiques\n",
    "</div>\n",
    "\n",
    "* **Compléter un programme**\n",
    "\n",
    " - Le programme précédent étant fourni en remplaçant les lignes 10 et 11 par `X= ...` et `P= ...`, demander aux élèves de compléter les lignes 10 et 11 à l'aide de la loi de probabilité de $X$.\n",
    " - Le programme précédent étant fourni en remplaçant la ligne 7 par `V = ...`, demander aux élèves de compléter la ligne 7.\n",
    "\n",
    "* **Écrire un programme**\n",
    "\n",
    "    Écrire la fonction `ecartType`. (On pourra rappeler que la fonction `math.sqrt` donne la racine)."
   ]
  },
  {
   "cell_type": "markdown",
   "metadata": {
    "colab_type": "text",
    "id": "eFFWXBPzhA6z",
    "tags": [
     "proportion"
    ]
   },
   "source": [
    "## Animations susceptibles d'être présentées aux élèves : simulation de 𝑁 échantillons de taille 𝑛\n",
    "Le programme ci-dessous permet, à l'issue de la simulation de $N$ échantillons même taille $n$, de calculer la proportion de ces échantillons pour lesquels l’écart entre le gain moyen et l'espérance du gain est inférieur ou égal à $\\dfrac{2\\sigma}{\\sqrt n}$. Il permet aussi de visualiser la répartition des gains moyens obtenus pour chacun de ces $N$ échantillons. L'animation permet de faire apparaître successivement chacun des gains moyens. "
   ]
  },
  {
   "cell_type": "code",
   "execution_count": null,
   "metadata": {
    "colab": {
     "base_uri": "https://localhost:8080/",
     "height": 395
    },
    "colab_type": "code",
    "id": "NAsauHlR1YJ4",
    "outputId": "926a3a42-c048-4902-dc2a-ec32c4d30753"
   },
   "outputs": [],
   "source": [
    "%matplotlib inline\n",
    "fig, ax1 = plt.subplots(1,figsize=(15, 6))\n",
    "\n",
    "\n",
    "# Création de la liste des gainsmoyens pour N échantillons de taille n\n",
    "def echantillonGains(mise, N, n):\n",
    "    echantillon = []\n",
    "    for i in range(N):\n",
    "        echantillon.append(gainMoyen(mise, n))\n",
    "    return echantillon\n",
    "# Borne de l'intervalle \n",
    "def bornes(E, sigma, n):\n",
    "    return E-2*sigma/math.sqrt(n),E+2*sigma/math.sqrt(n)\n",
    "#Calcul de la proportion des cas où l’écart entre le gain moyen et l'espérance est inférieur ou égal à 2𝜎/√𝑛\n",
    "def propPoint(echantillon, i, s):\n",
    "    filtre = [x for x in echantillon if x <= s and x >= i]\n",
    "    return len(filtre)/len(echantillon)\n",
    "\n",
    "#Constantes\n",
    "mise = 8.4\n",
    "N = 200\n",
    "n = 100\n",
    "X = [mise, 6, -mise]\n",
    "P = [1/8, 7/16, 7/16]\n",
    "\n",
    "#Espérance et écart-type\n",
    "E = esperance(X, P)\n",
    "sigma = ecartType(X, P)\n",
    "\n",
    "#Bornes de l'intervalle\n",
    "i, s = bornes(E, sigma, n)\n",
    "\n",
    "#Echantillon\n",
    "echantillon = echantillonGains(mise, N, n)\n",
    "print(\"La proportion des cas où l’écart entre le gain moyen et l'espérance du gain est inférieur ou égal à 2𝜎/√𝑛 est de\",propPoint(echantillon,i,s))\n",
    "\n",
    "#Graphique\n",
    "ax1.plot(echantillon,'bo')\n",
    "ax1.plot([0,N],[i,i],'r--',label='$\\mu-2\\sigma/\\sqrt {n}$;$\\mu+2\\sigma/\\sqrt {n}$')\n",
    "ax1.plot([0,N],[E,E],'g--',label='$\\mu$')\n",
    "ax1.plot([0,N],[s,s],'r--')\n",
    "ax1.legend(bbox_to_anchor=(1.01, 1), loc=2, borderaxespad=0.)\n",
    "plt.show()"
   ]
  },
  {
   "cell_type": "code",
   "execution_count": null,
   "metadata": {
    "colab": {
     "base_uri": "https://localhost:8080/",
     "height": 884
    },
    "colab_type": "code",
    "id": "GnZxpT3P8Bcx",
    "outputId": "0f523e12-3a9c-48ad-b36a-7353921caf48",
    "tags": [
     "Animation"
    ]
   },
   "outputs": [],
   "source": [
    "%matplotlib inline\n",
    "import matplotlib.animation\n",
    "from IPython.display import HTML\n",
    "\n",
    "#Constantes\n",
    "mise = 8.4\n",
    "N = 100\n",
    "n = 100\n",
    "X = [mise, 6, -mise]\n",
    "P = [1/8, 7/16, 7/16]\n",
    "\n",
    "#Espérance et écart-type\n",
    "E = esperance(X, P)\n",
    "sigma = ecartType(X, P)\n",
    "\n",
    "#Bornes de l'intervalle\n",
    "i, s = bornes(E, sigma, n)\n",
    "\n",
    "#Echantillon\n",
    "echantillon = echantillonGains(mise, N, n)\n",
    "\n",
    "#paramètres figure\n",
    "fig, ax1 = plt.subplots(1, 1,figsize=(20, 6))\n",
    "\n",
    "ax1.plot([0,N],[i,i],'r--',label='$\\mu-2\\sigma/\\sqrt {n}$;$\\mu+2\\sigma/\\sqrt {n}$')\n",
    "ax1.plot([0,N],[E,E],'g--',label='$\\mu$')\n",
    "ax1.plot([0,N],[s,s],'r--')\n",
    "\n",
    "points, = ax1.plot([],[],'bo')\n",
    "ax1.legend(bbox_to_anchor=(1.01, 1), loc=2, borderaxespad=0.)\n",
    "\n",
    "def init():\n",
    "    points.set_data([], [])\n",
    "    return (points,)\n",
    "\n",
    "def animate(i):\n",
    "    global echantillon\n",
    "    points.set_data([range(i+1),echantillon[:i+1]])\n",
    "    return (points,)\n",
    "plt.close ()\n",
    "ani = matplotlib.animation.FuncAnimation(fig, animate, frames=N,init_func=init,blit=True)\n",
    "# l'un ou l'autre\n",
    "HTML(ani.to_jshtml())\n",
    "#HTML(ani.to_html5_video())"
   ]
  },
  {
   "cell_type": "code",
   "execution_count": null,
   "metadata": {},
   "outputs": [],
   "source": []
  }
 ],
 "metadata": {
  "celltoolbar": "Tags",
  "colab": {
   "collapsed_sections": [],
   "name": "jeu.ipynb",
   "provenance": [],
   "version": "0.3.2"
  },
  "kernelspec": {
   "display_name": "Python 3",
   "language": "python",
   "name": "python3"
  },
  "language_info": {
   "codemirror_mode": {
    "name": "ipython",
    "version": 3
   },
   "file_extension": ".py",
   "mimetype": "text/x-python",
   "name": "python",
   "nbconvert_exporter": "python",
   "pygments_lexer": "ipython3",
   "version": "3.7.4"
  }
 },
 "nbformat": 4,
 "nbformat_minor": 1
}
